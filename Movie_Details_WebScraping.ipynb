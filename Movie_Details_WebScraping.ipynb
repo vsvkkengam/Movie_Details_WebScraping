{
 "cells": [
  {
   "cell_type": "markdown",
   "id": "44299b37",
   "metadata": {},
   "source": [
    "# Movie title, released_year and rating\n"
   ]
  },
  {
   "cell_type": "code",
   "execution_count": null,
   "id": "68c3481b",
   "metadata": {},
   "outputs": [],
   "source": [
    "import requests\n",
    "from bs4 import BeautifulSoup"
   ]
  },
  {
   "cell_type": "code",
   "execution_count": null,
   "id": "615dacb0",
   "metadata": {},
   "outputs": [],
   "source": [
    "url = \"https://editorial.rottentomatoes.com/guide/best-horror-movies-of-all-time/\""
   ]
  },
  {
   "cell_type": "code",
   "execution_count": null,
   "id": "b183424e",
   "metadata": {},
   "outputs": [],
   "source": [
    "response = requests.get(url)"
   ]
  },
  {
   "cell_type": "code",
   "execution_count": null,
   "id": "ebac20e0",
   "metadata": {},
   "outputs": [],
   "source": [
    "#print(response)"
   ]
  },
  {
   "cell_type": "code",
   "execution_count": null,
   "id": "e6301ea2",
   "metadata": {},
   "outputs": [],
   "source": [
    "soup = BeautifulSoup(response.content,\"lxml\") #html.parser"
   ]
  },
  {
   "cell_type": "code",
   "execution_count": null,
   "id": "5b9ac979",
   "metadata": {},
   "outputs": [],
   "source": [
    "divs = soup.findAll(\"div\", class_ = \"col-sm-20 col-full-xs\")\n",
    "print(divs)"
   ]
  },
  {
   "cell_type": "code",
   "execution_count": null,
   "id": "f4724d87",
   "metadata": {},
   "outputs": [],
   "source": [
    "divs[0].find(\"h2\")"
   ]
  },
  {
   "cell_type": "code",
   "execution_count": null,
   "id": "1cefe85b",
   "metadata": {},
   "outputs": [],
   "source": [
    "headings = [div.find(\"h2\") for div in divs]"
   ]
  },
  {
   "cell_type": "code",
   "execution_count": null,
   "id": "51063405",
   "metadata": {},
   "outputs": [],
   "source": [
    "print(headings)"
   ]
  },
  {
   "cell_type": "code",
   "execution_count": null,
   "id": "1d3dfc8e",
   "metadata": {},
   "outputs": [],
   "source": [
    "[heading.text for heading in headings]"
   ]
  },
  {
   "cell_type": "code",
   "execution_count": null,
   "id": "fcc13f9e",
   "metadata": {},
   "outputs": [],
   "source": [
    "headings[0]"
   ]
  },
  {
   "cell_type": "code",
   "execution_count": null,
   "id": "ac64739c",
   "metadata": {},
   "outputs": [],
   "source": [
    "#title\n",
    "\n",
    "[heading.find(\"a\") for heading in headings]"
   ]
  },
  {
   "cell_type": "code",
   "execution_count": null,
   "id": "63134bae",
   "metadata": {},
   "outputs": [],
   "source": [
    "#movie_names\n",
    "movie_names = [heading.find(\"a\").string for heading in headings]\n",
    "print(movie_names)"
   ]
  },
  {
   "cell_type": "code",
   "execution_count": null,
   "id": "0ab75c8b",
   "metadata": {},
   "outputs": [],
   "source": [
    "#released_year\n",
    "released_year = [heading.find(\"span\").string[1:-1] for heading in headings]\n",
    "print(released_year)"
   ]
  },
  {
   "cell_type": "code",
   "execution_count": null,
   "id": "0619fcfb",
   "metadata": {},
   "outputs": [],
   "source": [
    "released_year =[(year) for year in released_year]\n",
    "print(released_year)"
   ]
  },
  {
   "cell_type": "code",
   "execution_count": null,
   "id": "76414808",
   "metadata": {},
   "outputs": [],
   "source": [
    "#rating\n",
    "[heading.find(\"span\", class_ = \"tMeterScore\").string for heading in headings]"
   ]
  },
  {
   "cell_type": "code",
   "execution_count": null,
   "id": "825bbd87",
   "metadata": {},
   "outputs": [],
   "source": [
    "rating = [heading.find(\"span\", class_ = \"tMeterScore\").string for heading in headings]\n",
    "print(rating)"
   ]
  },
  {
   "cell_type": "code",
   "execution_count": null,
   "id": "e7c3c123",
   "metadata": {},
   "outputs": [],
   "source": [
    "#rating = [rate.strip(\"%\") for rate in rating]\n",
    "#print(rating)"
   ]
  },
  {
   "cell_type": "markdown",
   "id": "643786a4",
   "metadata": {},
   "source": [
    "# director"
   ]
  },
  {
   "cell_type": "code",
   "execution_count": null,
   "id": "05cb6b05",
   "metadata": {},
   "outputs": [],
   "source": [
    "director = [div.find(\"div\", class_ = \"info director\") for div in divs]\n",
    "print(director)"
   ]
  },
  {
   "cell_type": "code",
   "execution_count": null,
   "id": "d541976a",
   "metadata": {},
   "outputs": [],
   "source": [
    "print(director[0])"
   ]
  },
  {
   "cell_type": "code",
   "execution_count": null,
   "id": "4cbb59ed",
   "metadata": {},
   "outputs": [],
   "source": [
    "[director.find(\"a\").string for director in director]"
   ]
  },
  {
   "cell_type": "code",
   "execution_count": null,
   "id": "d6961841",
   "metadata": {},
   "outputs": [],
   "source": [
    "director_name = [director.find(\"a\").string for director in director]\n",
    "print(director_name)"
   ]
  },
  {
   "cell_type": "markdown",
   "id": "0cce98fd",
   "metadata": {},
   "source": [
    "# casting info"
   ]
  },
  {
   "cell_type": "code",
   "execution_count": null,
   "id": "8f8f472c",
   "metadata": {},
   "outputs": [],
   "source": [
    "casting = [div.find(\"div\", class_ = \"info cast\") for div in divs]\n",
    "print(casting)"
   ]
  },
  {
   "cell_type": "code",
   "execution_count": null,
   "id": "ae1a9549",
   "metadata": {},
   "outputs": [],
   "source": [
    "casting[0]"
   ]
  },
  {
   "cell_type": "code",
   "execution_count": null,
   "id": "f60a71b7",
   "metadata": {},
   "outputs": [],
   "source": [
    "casting_links = casting[0].find_all(\"a\")\n",
    "print(casting_links)"
   ]
  },
  {
   "cell_type": "code",
   "execution_count": null,
   "id": "63553315",
   "metadata": {},
   "outputs": [],
   "source": [
    "cast_names = [link.string for link in casting_links]\n",
    "print(cast_names)"
   ]
  },
  {
   "cell_type": "code",
   "execution_count": null,
   "id": "9fe60782",
   "metadata": {},
   "outputs": [],
   "source": [
    "cast = \",\".join(cast_names)\n",
    "print(cast)"
   ]
  },
  {
   "cell_type": "code",
   "execution_count": null,
   "id": "99150cda",
   "metadata": {},
   "outputs": [],
   "source": [
    "cast = []\n",
    "for c in casting:\n",
    "    casting_links = c.find_all(\"a\")\n",
    "    cast_names = [link.string for link in casting_links]\n",
    "    cast.append(\",\".join(cast_names))\n",
    "print(cast)"
   ]
  },
  {
   "cell_type": "code",
   "execution_count": null,
   "id": "2a12f6d6",
   "metadata": {},
   "outputs": [],
   "source": [
    "import pandas as pd"
   ]
  },
  {
   "cell_type": "code",
   "execution_count": null,
   "id": "f48d5319",
   "metadata": {},
   "outputs": [],
   "source": [
    "movie_info = pd.DataFrame()"
   ]
  },
  {
   "cell_type": "code",
   "execution_count": null,
   "id": "0738faf7",
   "metadata": {},
   "outputs": [],
   "source": [
    "movie_info[\"Title\"] = movie_names\n",
    "movie_info[\"Released_year\"] = released_year\n",
    "movie_info[\"Genre Type\"] = \"Horror\"\n",
    "movie_info[\"Rating\"] = rating\n",
    "movie_info[\"Director\"] = director_name\n",
    "movie_info[\"Casting\"] = cast\n",
    "print(movie_info)"
   ]
  },
  {
   "cell_type": "code",
   "execution_count": null,
   "id": "023c83e4",
   "metadata": {},
   "outputs": [],
   "source": [
    "movie_info.to_csv('movies_info.csv', index = False , header = True)"
   ]
  },
  {
   "cell_type": "code",
   "execution_count": null,
   "id": "5e5307b0",
   "metadata": {},
   "outputs": [],
   "source": []
  }
 ],
 "metadata": {
  "kernelspec": {
   "display_name": "Python 3 (ipykernel)",
   "language": "python",
   "name": "python3"
  },
  "language_info": {
   "codemirror_mode": {
    "name": "ipython",
    "version": 3
   },
   "file_extension": ".py",
   "mimetype": "text/x-python",
   "name": "python",
   "nbconvert_exporter": "python",
   "pygments_lexer": "ipython3",
   "version": "3.11.1"
  }
 },
 "nbformat": 4,
 "nbformat_minor": 5
}
